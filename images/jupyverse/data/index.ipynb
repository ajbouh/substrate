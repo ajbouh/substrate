{
 "cells": [
  {
   "attachments": {},
   "cell_type": "markdown",
   "id": "7b30fe0e-d4b7-42d4-8714-fd29ab746020",
   "metadata": {},
   "source": [
    "# Hi!\n",
    "\n",
    "This is a notebook hosted by Substrate."
   ]
  },
  {
   "cell_type": "code",
   "execution_count": null,
   "id": "54fe8c01-0929-47be-a80b-c4d682c56dae",
   "metadata": {},
   "outputs": [],
   "source": [
    "print('Hello, substrate user!')"
   ]
  }
 ],
 "metadata": {
  "kernelspec": {
   "display_name": "Python 3.8.8 64-bit",
   "language": "python",
   "name": "python3"
  },
  "language_info": {
   "codemirror_mode": {
    "name": "ipython",
    "version": 3
   },
   "file_extension": ".py",
   "mimetype": "text/x-python",
   "name": "python",
   "nbconvert_exporter": "python",
   "pygments_lexer": "ipython3",
   "version": "3.8.8"
  },
  "vscode": {
   "interpreter": {
    "hash": "7d3ef2259cca5f788b91fb691f1a956059ead3fa06b127e14dcb6f913fb6ba72"
   }
  }
 },
 "nbformat": 4,
 "nbformat_minor": 5
}
